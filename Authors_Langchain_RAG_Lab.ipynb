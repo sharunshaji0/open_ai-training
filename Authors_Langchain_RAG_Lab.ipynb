{
  "cells": [
    {
      "cell_type": "markdown",
      "metadata": {
        "id": "i7RNuCIqZht_"
      },
      "source": [
        "#Langchain\n"
      ]
    },
    {
      "cell_type": "markdown",
      "source": [
        "**problem statement**\n",
        "\n",
        "We are uploading a set of author details as a PDF, storing them in a folder, and loading them as a group. Now, we can retrieve all the requested details from this document\n"
      ],
      "metadata": {
        "id": "0KurwTbpad0L"
      }
    },
    {
      "cell_type": "markdown",
      "metadata": {
        "id": "1PO5jG_8lG5U"
      },
      "source": []
    },
    {
      "cell_type": "code",
      "execution_count": 1,
      "metadata": {
        "id": "MeQDLY_YjR-8",
        "colab": {
          "base_uri": "https://localhost:8080/"
        },
        "outputId": "3425a0de-47cb-40e9-a3f3-3e51827461c3"
      },
      "outputs": [
        {
          "output_type": "stream",
          "name": "stdout",
          "text": [
            "\u001b[?25l   \u001b[90m━━━━━━━━━━━━━━━━━━━━━━━━━━━━━━━━━━━━━━━━\u001b[0m \u001b[32m0.0/50.6 kB\u001b[0m \u001b[31m?\u001b[0m eta \u001b[36m-:--:--\u001b[0m\r\u001b[2K   \u001b[90m━━━━━━━━━━━━━━━━━━━━━━━━━━━━━━━━━━━━━━━━\u001b[0m \u001b[32m50.6/50.6 kB\u001b[0m \u001b[31m1.9 MB/s\u001b[0m eta \u001b[36m0:00:00\u001b[0m\n",
            "\u001b[?25h\u001b[?25l   \u001b[90m━━━━━━━━━━━━━━━━━━━━━━━━━━━━━━━━━━━━━━━━\u001b[0m \u001b[32m0.0/409.5 kB\u001b[0m \u001b[31m?\u001b[0m eta \u001b[36m-:--:--\u001b[0m\r\u001b[2K   \u001b[91m━━━━━━━━━━━━━━━━━━━━━━━━━━━━━━━━━━━━━━━\u001b[0m\u001b[90m╺\u001b[0m \u001b[32m399.4/409.5 kB\u001b[0m \u001b[31m14.9 MB/s\u001b[0m eta \u001b[36m0:00:01\u001b[0m\r\u001b[2K   \u001b[90m━━━━━━━━━━━━━━━━━━━━━━━━━━━━━━━━━━━━━━━━\u001b[0m \u001b[32m409.5/409.5 kB\u001b[0m \u001b[31m9.0 MB/s\u001b[0m eta \u001b[36m0:00:00\u001b[0m\n",
            "\u001b[?25h\u001b[?25l   \u001b[90m━━━━━━━━━━━━━━━━━━━━━━━━━━━━━━━━━━━━━━━━\u001b[0m \u001b[32m0.0/1.2 MB\u001b[0m \u001b[31m?\u001b[0m eta \u001b[36m-:--:--\u001b[0m\r\u001b[2K   \u001b[90m━━━━━━━━━━━━━━━━━━━━━━━━━━━━━━━━━━━━━━━━\u001b[0m \u001b[32m1.2/1.2 MB\u001b[0m \u001b[31m37.0 MB/s\u001b[0m eta \u001b[36m0:00:00\u001b[0m\n",
            "\u001b[?25h"
          ]
        }
      ],
      "source": [
        "!pip install -q langchain-openai"
      ]
    },
    {
      "cell_type": "markdown",
      "metadata": {
        "id": "i2gYAKGMOW1b"
      },
      "source": []
    },
    {
      "cell_type": "code",
      "source": [
        "\n",
        "\n",
        "AZURE_OPENAI_ENDPOINT = \"\" #OpenAI Endpoint\n",
        "AZURE_OPENAI_EMBEDDINGS_ENDPOINT=\"\" #Embeddings model name = mytextembedding\n",
        "AZURE_OPENAI_DEPLOYMENT_NAME = \"gpt-35-turbo-16k\" #GPT model name\n",
        "AZURE_OPENAI_API_VERSION = \"2024-02-15-preview\" # OpenAI API Version\n",
        "AZURE_OPENAI_API_KEY = \"\" #OpenAI API key\n"
      ],
      "metadata": {
        "id": "85kpnqSRJNeI"
      },
      "execution_count": 24,
      "outputs": []
    },
    {
      "cell_type": "code",
      "execution_count": 25,
      "metadata": {
        "id": "L2e0x-WGjMks"
      },
      "outputs": [],
      "source": [
        "from langchain_openai import AzureChatOpenAI\n",
        "model = AzureChatOpenAI(\n",
        "        azure_endpoint=AZURE_OPENAI_ENDPOINT,\n",
        "        azure_deployment=AZURE_OPENAI_DEPLOYMENT_NAME,\n",
        "        openai_api_version=\"2024-06-01\",\n",
        "        api_key=AZURE_OPENAI_API_KEY\n",
        "    )\n",
        "\n"
      ]
    },
    {
      "cell_type": "code",
      "execution_count": null,
      "metadata": {
        "id": "PvncUH_HciMH"
      },
      "outputs": [],
      "source": []
    },
    {
      "cell_type": "markdown",
      "metadata": {
        "id": "-jiEGfY_SwG6"
      },
      "source": [
        "### Installing Helper Packages"
      ]
    },
    {
      "cell_type": "code",
      "execution_count": 4,
      "metadata": {
        "colab": {
          "base_uri": "https://localhost:8080/"
        },
        "id": "Lj86AHPpr0zX",
        "outputId": "a87c9fda-4f03-492d-9f10-a713648c8ce9"
      },
      "outputs": [
        {
          "output_type": "stream",
          "name": "stdout",
          "text": [
            "Collecting langchain-community\n",
            "  Downloading langchain_community-0.3.8-py3-none-any.whl.metadata (2.9 kB)\n",
            "Requirement already satisfied: langchain-core in /usr/local/lib/python3.10/dist-packages (0.3.21)\n",
            "Requirement already satisfied: PyYAML>=5.3 in /usr/local/lib/python3.10/dist-packages (from langchain-community) (6.0.2)\n",
            "Collecting SQLAlchemy<2.0.36,>=1.4 (from langchain-community)\n",
            "  Downloading SQLAlchemy-2.0.35-cp310-cp310-manylinux_2_17_x86_64.manylinux2014_x86_64.whl.metadata (9.6 kB)\n",
            "Requirement already satisfied: aiohttp<4.0.0,>=3.8.3 in /usr/local/lib/python3.10/dist-packages (from langchain-community) (3.11.2)\n",
            "Collecting dataclasses-json<0.7,>=0.5.7 (from langchain-community)\n",
            "  Downloading dataclasses_json-0.6.7-py3-none-any.whl.metadata (25 kB)\n",
            "Collecting httpx-sse<0.5.0,>=0.4.0 (from langchain-community)\n",
            "  Downloading httpx_sse-0.4.0-py3-none-any.whl.metadata (9.0 kB)\n",
            "Collecting langchain<0.4.0,>=0.3.8 (from langchain-community)\n",
            "  Downloading langchain-0.3.9-py3-none-any.whl.metadata (7.1 kB)\n",
            "Requirement already satisfied: langsmith<0.2.0,>=0.1.125 in /usr/local/lib/python3.10/dist-packages (from langchain-community) (0.1.143)\n",
            "Requirement already satisfied: numpy<2,>=1.22.4 in /usr/local/lib/python3.10/dist-packages (from langchain-community) (1.26.4)\n",
            "Collecting pydantic-settings<3.0.0,>=2.4.0 (from langchain-community)\n",
            "  Downloading pydantic_settings-2.6.1-py3-none-any.whl.metadata (3.5 kB)\n",
            "Requirement already satisfied: requests<3,>=2 in /usr/local/lib/python3.10/dist-packages (from langchain-community) (2.32.3)\n",
            "Requirement already satisfied: tenacity!=8.4.0,<10,>=8.1.0 in /usr/local/lib/python3.10/dist-packages (from langchain-community) (9.0.0)\n",
            "Requirement already satisfied: jsonpatch<2.0,>=1.33 in /usr/local/lib/python3.10/dist-packages (from langchain-core) (1.33)\n",
            "Requirement already satisfied: packaging<25,>=23.2 in /usr/local/lib/python3.10/dist-packages (from langchain-core) (24.2)\n",
            "Requirement already satisfied: pydantic<3.0.0,>=2.5.2 in /usr/local/lib/python3.10/dist-packages (from langchain-core) (2.9.2)\n",
            "Requirement already satisfied: typing-extensions>=4.7 in /usr/local/lib/python3.10/dist-packages (from langchain-core) (4.12.2)\n",
            "Requirement already satisfied: aiohappyeyeballs>=2.3.0 in /usr/local/lib/python3.10/dist-packages (from aiohttp<4.0.0,>=3.8.3->langchain-community) (2.4.3)\n",
            "Requirement already satisfied: aiosignal>=1.1.2 in /usr/local/lib/python3.10/dist-packages (from aiohttp<4.0.0,>=3.8.3->langchain-community) (1.3.1)\n",
            "Requirement already satisfied: attrs>=17.3.0 in /usr/local/lib/python3.10/dist-packages (from aiohttp<4.0.0,>=3.8.3->langchain-community) (24.2.0)\n",
            "Requirement already satisfied: frozenlist>=1.1.1 in /usr/local/lib/python3.10/dist-packages (from aiohttp<4.0.0,>=3.8.3->langchain-community) (1.5.0)\n",
            "Requirement already satisfied: multidict<7.0,>=4.5 in /usr/local/lib/python3.10/dist-packages (from aiohttp<4.0.0,>=3.8.3->langchain-community) (6.1.0)\n",
            "Requirement already satisfied: propcache>=0.2.0 in /usr/local/lib/python3.10/dist-packages (from aiohttp<4.0.0,>=3.8.3->langchain-community) (0.2.0)\n",
            "Requirement already satisfied: yarl<2.0,>=1.17.0 in /usr/local/lib/python3.10/dist-packages (from aiohttp<4.0.0,>=3.8.3->langchain-community) (1.17.2)\n",
            "Requirement already satisfied: async-timeout<6.0,>=4.0 in /usr/local/lib/python3.10/dist-packages (from aiohttp<4.0.0,>=3.8.3->langchain-community) (4.0.3)\n",
            "Collecting marshmallow<4.0.0,>=3.18.0 (from dataclasses-json<0.7,>=0.5.7->langchain-community)\n",
            "  Downloading marshmallow-3.23.1-py3-none-any.whl.metadata (7.5 kB)\n",
            "Collecting typing-inspect<1,>=0.4.0 (from dataclasses-json<0.7,>=0.5.7->langchain-community)\n",
            "  Downloading typing_inspect-0.9.0-py3-none-any.whl.metadata (1.5 kB)\n",
            "Requirement already satisfied: jsonpointer>=1.9 in /usr/local/lib/python3.10/dist-packages (from jsonpatch<2.0,>=1.33->langchain-core) (3.0.0)\n",
            "Requirement already satisfied: langchain-text-splitters<0.4.0,>=0.3.0 in /usr/local/lib/python3.10/dist-packages (from langchain<0.4.0,>=0.3.8->langchain-community) (0.3.2)\n",
            "Requirement already satisfied: httpx<1,>=0.23.0 in /usr/local/lib/python3.10/dist-packages (from langsmith<0.2.0,>=0.1.125->langchain-community) (0.27.2)\n",
            "Requirement already satisfied: orjson<4.0.0,>=3.9.14 in /usr/local/lib/python3.10/dist-packages (from langsmith<0.2.0,>=0.1.125->langchain-community) (3.10.11)\n",
            "Requirement already satisfied: requests-toolbelt<2.0.0,>=1.0.0 in /usr/local/lib/python3.10/dist-packages (from langsmith<0.2.0,>=0.1.125->langchain-community) (1.0.0)\n",
            "Requirement already satisfied: annotated-types>=0.6.0 in /usr/local/lib/python3.10/dist-packages (from pydantic<3.0.0,>=2.5.2->langchain-core) (0.7.0)\n",
            "Requirement already satisfied: pydantic-core==2.23.4 in /usr/local/lib/python3.10/dist-packages (from pydantic<3.0.0,>=2.5.2->langchain-core) (2.23.4)\n",
            "Collecting python-dotenv>=0.21.0 (from pydantic-settings<3.0.0,>=2.4.0->langchain-community)\n",
            "  Downloading python_dotenv-1.0.1-py3-none-any.whl.metadata (23 kB)\n",
            "Requirement already satisfied: charset-normalizer<4,>=2 in /usr/local/lib/python3.10/dist-packages (from requests<3,>=2->langchain-community) (3.4.0)\n",
            "Requirement already satisfied: idna<4,>=2.5 in /usr/local/lib/python3.10/dist-packages (from requests<3,>=2->langchain-community) (3.10)\n",
            "Requirement already satisfied: urllib3<3,>=1.21.1 in /usr/local/lib/python3.10/dist-packages (from requests<3,>=2->langchain-community) (2.2.3)\n",
            "Requirement already satisfied: certifi>=2017.4.17 in /usr/local/lib/python3.10/dist-packages (from requests<3,>=2->langchain-community) (2024.8.30)\n",
            "Requirement already satisfied: greenlet!=0.4.17 in /usr/local/lib/python3.10/dist-packages (from SQLAlchemy<2.0.36,>=1.4->langchain-community) (3.1.1)\n",
            "Requirement already satisfied: anyio in /usr/local/lib/python3.10/dist-packages (from httpx<1,>=0.23.0->langsmith<0.2.0,>=0.1.125->langchain-community) (3.7.1)\n",
            "Requirement already satisfied: httpcore==1.* in /usr/local/lib/python3.10/dist-packages (from httpx<1,>=0.23.0->langsmith<0.2.0,>=0.1.125->langchain-community) (1.0.7)\n",
            "Requirement already satisfied: sniffio in /usr/local/lib/python3.10/dist-packages (from httpx<1,>=0.23.0->langsmith<0.2.0,>=0.1.125->langchain-community) (1.3.1)\n",
            "Requirement already satisfied: h11<0.15,>=0.13 in /usr/local/lib/python3.10/dist-packages (from httpcore==1.*->httpx<1,>=0.23.0->langsmith<0.2.0,>=0.1.125->langchain-community) (0.14.0)\n",
            "Collecting mypy-extensions>=0.3.0 (from typing-inspect<1,>=0.4.0->dataclasses-json<0.7,>=0.5.7->langchain-community)\n",
            "  Downloading mypy_extensions-1.0.0-py3-none-any.whl.metadata (1.1 kB)\n",
            "Requirement already satisfied: exceptiongroup in /usr/local/lib/python3.10/dist-packages (from anyio->httpx<1,>=0.23.0->langsmith<0.2.0,>=0.1.125->langchain-community) (1.2.2)\n",
            "Downloading langchain_community-0.3.8-py3-none-any.whl (2.4 MB)\n",
            "\u001b[2K   \u001b[90m━━━━━━━━━━━━━━━━━━━━━━━━━━━━━━━━━━━━━━━━\u001b[0m \u001b[32m2.4/2.4 MB\u001b[0m \u001b[31m28.4 MB/s\u001b[0m eta \u001b[36m0:00:00\u001b[0m\n",
            "\u001b[?25hDownloading dataclasses_json-0.6.7-py3-none-any.whl (28 kB)\n",
            "Downloading httpx_sse-0.4.0-py3-none-any.whl (7.8 kB)\n",
            "Downloading langchain-0.3.9-py3-none-any.whl (1.0 MB)\n",
            "\u001b[2K   \u001b[90m━━━━━━━━━━━━━━━━━━━━━━━━━━━━━━━━━━━━━━━━\u001b[0m \u001b[32m1.0/1.0 MB\u001b[0m \u001b[31m37.9 MB/s\u001b[0m eta \u001b[36m0:00:00\u001b[0m\n",
            "\u001b[?25hDownloading pydantic_settings-2.6.1-py3-none-any.whl (28 kB)\n",
            "Downloading SQLAlchemy-2.0.35-cp310-cp310-manylinux_2_17_x86_64.manylinux2014_x86_64.whl (3.1 MB)\n",
            "\u001b[2K   \u001b[90m━━━━━━━━━━━━━━━━━━━━━━━━━━━━━━━━━━━━━━━━\u001b[0m \u001b[32m3.1/3.1 MB\u001b[0m \u001b[31m59.0 MB/s\u001b[0m eta \u001b[36m0:00:00\u001b[0m\n",
            "\u001b[?25hDownloading marshmallow-3.23.1-py3-none-any.whl (49 kB)\n",
            "\u001b[2K   \u001b[90m━━━━━━━━━━━━━━━━━━━━━━━━━━━━━━━━━━━━━━━━\u001b[0m \u001b[32m49.5/49.5 kB\u001b[0m \u001b[31m3.3 MB/s\u001b[0m eta \u001b[36m0:00:00\u001b[0m\n",
            "\u001b[?25hDownloading python_dotenv-1.0.1-py3-none-any.whl (19 kB)\n",
            "Downloading typing_inspect-0.9.0-py3-none-any.whl (8.8 kB)\n",
            "Downloading mypy_extensions-1.0.0-py3-none-any.whl (4.7 kB)\n",
            "Installing collected packages: SQLAlchemy, python-dotenv, mypy-extensions, marshmallow, httpx-sse, typing-inspect, pydantic-settings, dataclasses-json, langchain, langchain-community\n",
            "  Attempting uninstall: SQLAlchemy\n",
            "    Found existing installation: SQLAlchemy 2.0.36\n",
            "    Uninstalling SQLAlchemy-2.0.36:\n",
            "      Successfully uninstalled SQLAlchemy-2.0.36\n",
            "  Attempting uninstall: langchain\n",
            "    Found existing installation: langchain 0.3.7\n",
            "    Uninstalling langchain-0.3.7:\n",
            "      Successfully uninstalled langchain-0.3.7\n",
            "Successfully installed SQLAlchemy-2.0.35 dataclasses-json-0.6.7 httpx-sse-0.4.0 langchain-0.3.9 langchain-community-0.3.8 marshmallow-3.23.1 mypy-extensions-1.0.0 pydantic-settings-2.6.1 python-dotenv-1.0.1 typing-inspect-0.9.0\n"
          ]
        }
      ],
      "source": [
        "!pip install langchain-community langchain-core"
      ]
    },
    {
      "cell_type": "code",
      "execution_count": 5,
      "metadata": {
        "id": "3CqpNA0C6BqT",
        "colab": {
          "base_uri": "https://localhost:8080/"
        },
        "outputId": "902be6ba-e24c-49e2-bc1a-36bc3fb054a5"
      },
      "outputs": [
        {
          "output_type": "stream",
          "name": "stdout",
          "text": [
            "\u001b[?25l   \u001b[90m━━━━━━━━━━━━━━━━━━━━━━━━━━━━━━━━━━━━━━━━\u001b[0m \u001b[32m0.0/298.0 kB\u001b[0m \u001b[31m?\u001b[0m eta \u001b[36m-:--:--\u001b[0m\r\u001b[2K   \u001b[91m━━━━━━━━━━━━━━━━━━━━━━━━━━\u001b[0m\u001b[90m╺\u001b[0m\u001b[90m━━━━━━━━━━━━━\u001b[0m \u001b[32m194.6/298.0 kB\u001b[0m \u001b[31m6.3 MB/s\u001b[0m eta \u001b[36m0:00:01\u001b[0m\r\u001b[2K   \u001b[90m━━━━━━━━━━━━━━━━━━━━━━━━━━━━━━━━━━━━━━━━\u001b[0m \u001b[32m298.0/298.0 kB\u001b[0m \u001b[31m5.2 MB/s\u001b[0m eta \u001b[36m0:00:00\u001b[0m\n",
            "\u001b[?25h"
          ]
        }
      ],
      "source": [
        "!pip install -qU langchain_community pypdf"
      ]
    },
    {
      "cell_type": "code",
      "execution_count": null,
      "metadata": {
        "id": "fK3hsDc9GpUL"
      },
      "outputs": [],
      "source": []
    },
    {
      "cell_type": "code",
      "execution_count": 35,
      "metadata": {
        "id": "udUEVouv744Y"
      },
      "outputs": [],
      "source": [
        "from langchain_community.document_loaders import PyPDFLoader\n",
        "import os"
      ]
    },
    {
      "cell_type": "code",
      "execution_count": 34,
      "metadata": {
        "colab": {
          "base_uri": "https://localhost:8080/"
        },
        "id": "EqzXWAJfrhYp",
        "outputId": "ee6fc9d1-f4e7-4845-87fe-c406a764565e"
      },
      "outputs": [
        {
          "output_type": "stream",
          "name": "stdout",
          "text": [
            "authors  sample_data\n"
          ]
        }
      ],
      "source": [
        "!ls"
      ]
    },
    {
      "cell_type": "markdown",
      "metadata": {
        "id": "2uVNip_NSzBV"
      },
      "source": [
        "### Load and Prepare PDF"
      ]
    },
    {
      "cell_type": "code",
      "execution_count": 38,
      "metadata": {
        "id": "XRwu9eq38d_2",
        "colab": {
          "base_uri": "https://localhost:8080/"
        },
        "outputId": "83f17c14-0ca4-4963-bd33-3c116b7602a6"
      },
      "outputs": [
        {
          "output_type": "stream",
          "name": "stdout",
          "text": [
            "file /content/authors/Chetan_Bhagat.pdf\n",
            "file /content/authors/William_Shakespeare.pdf\n",
            "file /content/authors/Charles_Dickens.pdf\n",
            "file /content/authors/Harivansh_Rai_Bachchan.pdf\n"
          ]
        }
      ],
      "source": [
        "pdf_folder_path = \"/content/authors\"\n",
        "documents = []\n",
        "for file in os.listdir(pdf_folder_path):\n",
        "  if file.endswith('.pdf'):\n",
        "    pdf_path = os.path.join(pdf_folder_path, file)\n",
        "    print('file',pdf_path)\n",
        "    loader = PyPDFLoader(pdf_path)\n",
        "    documents.extend(loader.load())\n",
        "docs = documents"
      ]
    },
    {
      "cell_type": "code",
      "execution_count": 15,
      "metadata": {
        "colab": {
          "base_uri": "https://localhost:8080/"
        },
        "id": "mabifmgH8uPd",
        "outputId": "6f98f0dd-bda2-478c-fe01-578a695938f8"
      },
      "outputs": [
        {
          "output_type": "stream",
          "name": "stdout",
          "text": [
            "\n",
            " content: Khushwant Singh\n",
            "Khushwant Singh receiving the National Amity\n",
            "Award, in New Delhi on September 26, 2008\n",
            "Born Khushal Singh\n",
            "2 February 1915\n",
            "Hadali, Punjab Province, British\n",
            "India\n",
            "(now in Punjab, Pakistan)\n",
            "Died 20 March 2014 (aged 99)\n",
            "New Delhi, India\n",
            "Occupation Lawyer, journalist, diplomat,\n",
            "writer, politician\n",
            "Nationality Indian\n",
            "Alma mater Government College, Lahore\n",
            "(B.A.)\n",
            "University of London (LL.B.)\n",
            "Notable\n",
            "works\n",
            "The History of Sikhs\n",
            "Train to Pakistan\n",
            "Delhi: A Novel\n",
            "The Company of Women\n",
            "Truth, Love and a Little Malice:\n",
            "An Autobiography\n",
            "With Malice towards One and\n",
            "All\n",
            "Why I Supported the\n",
            "Emergency: Essays and\n",
            "Profiles\n",
            "Khushwantnama, The Lessons\n",
            "of My Life\n",
            "Khushwant Singh\n",
            "Khushwant Singh FKC (born Khushal Singh, 2\n",
            "February 1915 – 20 March 2014) was an Indian author,\n",
            "lawyer, diplomat, journalist and politician. His\n",
            "experience in the 1947 Partition of India inspired him\n",
            "to write Train to Pakistan in 1956 (made into film in\n",
            "1998), which became his most well-known novel.[1][2]\n",
            "Born in Punjab, Khushwant Singh was educated in\n",
            "Modern School, New Delhi, St. Stephen's College, and\n",
            "graduated from Government College, Lahore. He\n",
            "studied at King's College London and was awarded an\n",
            "LL.B. from University of London. He was called to the\n",
            "bar at the London Inner Temple. After working as a\n",
            "lawyer in Lahore High Court for eight years, he joined\n",
            "the Indian Foreign Service upon the Independence of\n",
            "India from British Empire in 1947. He was appointed\n",
            "journalist in the All India Radio in 1951, and then\n",
            "moved to the Department of Mass Communications of\n",
            "UNESCO at Paris in 1956. These last two careers\n",
            "encouraged him to pursue a literary career. As a writer,\n",
            "he was best known for his trenchant secularism,[3]\n",
            "humour, sarcasm and an abiding love of poetry. His\n",
            "comparisons of social and behavioural characteristics\n",
            "of Westerners and Indians are laced with acid wit. He\n",
            "served as the editor of several literary and news\n",
            "magazines, as well as two newspapers, through the\n",
            "1970s and 1980s. Between 1980 and 1986 he served as\n",
            "Member of Parliament in Rajya Sabha, the upper house\n",
            "of the Parliament of India.\n",
            "Khushwant Singh was awarded the Padma Bhushan in\n",
            "1974;[4] however, he returned the award in 1984 in\n",
            "protest against Operation Blue Star in which the Indian\n",
            "Army raided Amritsar. In 2007, he was awarded the\n",
            "Padma Vibhushan, the second-highest civilian award in\n",
            "India.[5]\n",
            "Early life\n"
          ]
        }
      ],
      "source": [
        "print(\"\\n\",\"content:\",docs[0].page_content)"
      ]
    },
    {
      "cell_type": "markdown",
      "metadata": {
        "id": "IReFblMbS7sa"
      },
      "source": [
        "### Configuring Azure OpenAI\n",
        "Notice how we're using different endpoints for Embeddings and Completions"
      ]
    },
    {
      "cell_type": "code",
      "execution_count": 26,
      "metadata": {
        "id": "Xb7igomp8wLt"
      },
      "outputs": [],
      "source": [
        "!pip install -qU langchain-openai"
      ]
    },
    {
      "cell_type": "code",
      "execution_count": null,
      "metadata": {
        "id": "5-J_smoX9fMg"
      },
      "outputs": [],
      "source": []
    },
    {
      "cell_type": "markdown",
      "metadata": {
        "id": "Rkg1zORmESPK"
      },
      "source": []
    },
    {
      "cell_type": "markdown",
      "metadata": {
        "id": "EaqqR0spTUey"
      },
      "source": [
        "Adding Azure Configurations to environment variables"
      ]
    },
    {
      "cell_type": "code",
      "execution_count": 39,
      "metadata": {
        "id": "cdc2iY5D9qwy"
      },
      "outputs": [],
      "source": [
        "\n",
        "os.environ[\"AZURE_OPENAI_ENDPOINT\"] = AZURE_OPENAI_ENDPOINT\n",
        "os.environ[\"AZURE_OPENAI_DEPLOYMENT_NAME\"] = AZURE_OPENAI_DEPLOYMENT_NAME\n",
        "os.environ[\"AZURE_OPENAI_API_VERSION\"] = AZURE_OPENAI_API_VERSION\n",
        "os.environ[\"AZURE_OPENAI_EMBEDDINGS_ENDPOINT\"] = AZURE_OPENAI_EMBEDDINGS_ENDPOINT\n",
        "os.environ[\"AZURE_OPENAI_API_KEY\"] = AZURE_OPENAI_API_KEY\n"
      ]
    },
    {
      "cell_type": "code",
      "source": [
        "AZURE_OPENAI_EMBEDDINGS_ENDPOINT"
      ],
      "metadata": {
        "colab": {
          "base_uri": "https://localhost:8080/",
          "height": 35
        },
        "id": "uDDZp3N_N09p",
        "outputId": "31f96d20-58f9-40b4-935e-facdec55adc3"
      },
      "execution_count": 40,
      "outputs": [
        {
          "output_type": "execute_result",
          "data": {
            "text/plain": [
              "'https://eyuse-m3y53pzv-eastus.cognitiveservices.azure.com/openai/deployments/text-embedding-3-large/embeddings?api-version=2023-05-15'"
            ],
            "application/vnd.google.colaboratory.intrinsic+json": {
              "type": "string"
            }
          },
          "metadata": {},
          "execution_count": 40
        }
      ]
    },
    {
      "cell_type": "markdown",
      "metadata": {
        "id": "kfh4EBEKTabj"
      },
      "source": [
        "### Create Chat Model Instance"
      ]
    },
    {
      "cell_type": "code",
      "execution_count": 19,
      "metadata": {
        "id": "7o1T3EVE-Xhm"
      },
      "outputs": [],
      "source": [
        "from langchain_openai import AzureChatOpenAI"
      ]
    },
    {
      "cell_type": "code",
      "execution_count": 75,
      "metadata": {
        "id": "ieJzZ65R-dZq"
      },
      "outputs": [],
      "source": [
        "model = AzureChatOpenAI(\n",
        "    azure_endpoint = os.environ[\"AZURE_OPENAI_ENDPOINT\"],\n",
        "    azure_deployment = os.environ[\"AZURE_OPENAI_DEPLOYMENT_NAME\"],\n",
        "    openai_api_version = os.environ[\"AZURE_OPENAI_API_VERSION\"]\n",
        ")"
      ]
    },
    {
      "cell_type": "markdown",
      "source": [],
      "metadata": {
        "id": "9pUnTLNMsRZk"
      }
    },
    {
      "cell_type": "markdown",
      "metadata": {
        "id": "i_BGI6u7U8pH"
      },
      "source": [
        "### Preprocess PDF"
      ]
    },
    {
      "cell_type": "markdown",
      "metadata": {
        "id": "_DUVrjCyTvUo"
      },
      "source": [
        "Installing Chroma for Vector DB support"
      ]
    },
    {
      "cell_type": "code",
      "execution_count": 57,
      "metadata": {
        "id": "lwxdudHH-jnK"
      },
      "outputs": [],
      "source": [
        "!pip install -qU langchain_chroma"
      ]
    },
    {
      "cell_type": "code",
      "execution_count": 58,
      "metadata": {
        "id": "1zsJzxKi-1ap"
      },
      "outputs": [],
      "source": [
        "from langchain_chroma import Chroma\n",
        "from langchain_openai import AzureOpenAIEmbeddings\n",
        "from langchain_text_splitters import RecursiveCharacterTextSplitter"
      ]
    },
    {
      "cell_type": "markdown",
      "metadata": {
        "id": "P-uCkU1-TzA8"
      },
      "source": [
        "Split text, create embeddings and store in vector store (Load, Chunk and Index)"
      ]
    },
    {
      "cell_type": "code",
      "execution_count": 59,
      "metadata": {
        "id": "VeZEuwlp_HLH"
      },
      "outputs": [],
      "source": [
        "text_splitter = RecursiveCharacterTextSplitter(chunk_size=1000, chunk_overlap=200)\n",
        "splits = text_splitter.split_documents(docs)\n",
        "embeddings = AzureOpenAIEmbeddings(azure_endpoint=os.environ[\"AZURE_OPENAI_EMBEDDINGS_ENDPOINT\"])\n",
        "\n",
        "vectorstore = Chroma.from_documents(documents=splits, embedding=embeddings)\n",
        "\n",
        "retriever = vectorstore.as_retriever()"
      ]
    },
    {
      "cell_type": "markdown",
      "metadata": {
        "id": "alP4O5NOUruH"
      },
      "source": [
        "### Create RAG Pipeline"
      ]
    },
    {
      "cell_type": "markdown",
      "metadata": {
        "id": "U6H2nJrOUlNv"
      },
      "source": [
        "Import the helper functions for RAG pipeline"
      ]
    },
    {
      "cell_type": "code",
      "execution_count": 73,
      "metadata": {
        "id": "98QmBC5z_KTM"
      },
      "outputs": [],
      "source": [
        "from langchain.chains import create_retrieval_chain\n",
        "from langchain.chains.combine_documents import create_stuff_documents_chain\n",
        "from langchain_core.prompts import ChatPromptTemplate\n",
        "from langchain.chains import create_history_aware_retriever\n",
        "from langchain_core.prompts import MessagesPlaceholder"
      ]
    },
    {
      "cell_type": "markdown",
      "metadata": {
        "id": "xyrY3T7pT7Mp"
      },
      "source": [
        "Prompt 1 -\n",
        "```Contextualize the user's query based on chat history```"
      ]
    },
    {
      "cell_type": "code",
      "execution_count": 129,
      "metadata": {
        "id": "_3XmQCo_DG3U"
      },
      "outputs": [],
      "source": [
        "context_system_prompt = (\n",
        "   \"You are an assistant which has information on famous authors from english and hindi literature. When provided with a user query , you carefully look in the context provided and answer based on that. If the relevant information is not provided in the context, please respond saying the information is not provided in the context\"\n",
        "\n",
        ")\n",
        "context_user_prompt = (\n",
        "\"Tell me more about Sci-fi movies? If you don't find relevant information from the given context then return the apology or not found message , don't return anything if not present in the given context\"\n",
        "    \"{input}\"\n",
        ")\n"
      ]
    },
    {
      "cell_type": "markdown",
      "metadata": {
        "id": "cLnQjV9uUgWO"
      },
      "source": [
        "Template to guide model behaviour.\n",
        "\n",
        "This template allows to retain context from chat history"
      ]
    },
    {
      "cell_type": "code",
      "execution_count": 130,
      "metadata": {
        "id": "DF5SaOeJDWXs"
      },
      "outputs": [],
      "source": [
        "messages = [\n",
        "    (\"system\", context_system_prompt),\n",
        "    MessagesPlaceholder(\"chat_history\"),\n",
        "    (\"human\", context_user_prompt),\n",
        "]\n",
        "prompt = ChatPromptTemplate.from_messages(messages)"
      ]
    },
    {
      "cell_type": "markdown",
      "metadata": {
        "id": "wLT4KRznUkkB"
      },
      "source": [
        "Create ```create_history_aware_retriever``` to fetch relevant context from user's document based on the user's query and the conversation history"
      ]
    },
    {
      "cell_type": "code",
      "execution_count": 131,
      "metadata": {
        "id": "i-0FSQuIGudX"
      },
      "outputs": [],
      "source": [
        "context_retriever = create_history_aware_retriever(\n",
        "    llm=model, retriever=retriever, prompt=prompt\n",
        ")"
      ]
    },
    {
      "cell_type": "markdown",
      "metadata": {
        "id": "c6TG0h1dOS4G"
      },
      "source": [
        "Prompt 2 - ```To generate the final answer using the relevant context.```"
      ]
    },
    {
      "cell_type": "code",
      "execution_count": 132,
      "metadata": {
        "id": "HTe7KxUwOGMy"
      },
      "outputs": [],
      "source": [
        "system_prompt = (\n",
        "   \"You are an assistant which has information on famous authors from english and hindi literature. When provided with a user query , you carefully look in the context provided and answer based on that. If the relevant information is not provided in the context, please respond saying the information is not provided in the context\"\n",
        "    \"\\n\\n\"\n",
        "   \"{context}\"\n",
        ")"
      ]
    },
    {
      "cell_type": "code",
      "execution_count": 117,
      "metadata": {
        "colab": {
          "base_uri": "https://localhost:8080/",
          "height": 53
        },
        "id": "eg9mpLm3e3pr",
        "outputId": "b1a203a0-1b26-480e-88b0-59696a523550"
      },
      "outputs": [
        {
          "output_type": "execute_result",
          "data": {
            "text/plain": [
              "'You are an assistant which has information on famous authors from english and hindi literature. When provided with a user query , you carefully look in the context provided and answer based on that. If the relevant information is not provided in the context, please respond saying the information is not provided in the context\\n\\n{context}'"
            ],
            "application/vnd.google.colaboratory.intrinsic+json": {
              "type": "string"
            }
          },
          "metadata": {},
          "execution_count": 117
        }
      ],
      "source": [
        "system_prompt"
      ]
    },
    {
      "cell_type": "markdown",
      "metadata": {
        "id": "DgYznrjKUsAw"
      },
      "source": [
        "Template to guide model behaviour.\n",
        "\n",
        "This template allows to answer user's query with retrieved information"
      ]
    },
    {
      "cell_type": "code",
      "execution_count": 133,
      "metadata": {
        "id": "1wjsd2ckRuNh"
      },
      "outputs": [],
      "source": [
        "conversation_prompt = ChatPromptTemplate.from_messages(\n",
        "    [\n",
        "        (\"system\", system_prompt),\n",
        "        MessagesPlaceholder(\"chat_history\"),\n",
        "        (\"human\", context_user_prompt),\n",
        "    ]\n",
        ")"
      ]
    },
    {
      "cell_type": "markdown",
      "metadata": {
        "id": "KCqsg3otW6Ih"
      },
      "source": [
        "Create a ```context_chain```\n",
        "which \"stuffs\" the relevant documents into the language model's prompt, along with the user's query, and returns a response."
      ]
    },
    {
      "cell_type": "code",
      "execution_count": 134,
      "metadata": {
        "id": "EDyi5h3wDs7a"
      },
      "outputs": [],
      "source": [
        "context_chain = create_stuff_documents_chain(\n",
        "    model,\n",
        "    conversation_prompt\n",
        ")"
      ]
    },
    {
      "cell_type": "markdown",
      "metadata": {
        "id": "U1yatss_XtNL"
      },
      "source": [
        "Create RAG chain - serves two purposes\n",
        "\n",
        "1 - Uses the ```context_retriever``` to find relevant text chunks from the vector database (Chroma).\n",
        "\n",
        "2 - Passes the retrieved context and the question to the language model to generate an answer."
      ]
    },
    {
      "cell_type": "code",
      "execution_count": 135,
      "metadata": {
        "id": "jvOhYajYEafY"
      },
      "outputs": [],
      "source": [
        "rag_chain = create_retrieval_chain(context_retriever,context_chain)"
      ]
    },
    {
      "cell_type": "markdown",
      "metadata": {
        "id": "6MLAMAd1X9m6"
      },
      "source": [
        "### Pass, Store and Update Chat History"
      ]
    },
    {
      "cell_type": "markdown",
      "metadata": {
        "id": "tIrGFJGdP-mm"
      },
      "source": [
        "Import packages to enable dynamic chat history support"
      ]
    },
    {
      "cell_type": "code",
      "execution_count": 136,
      "metadata": {
        "id": "nbd9XyoySO5r"
      },
      "outputs": [],
      "source": [
        "from langchain_core.chat_history import BaseChatMessageHistory\n",
        "from langchain_community.chat_message_histories import ChatMessageHistory\n",
        "from langchain_core.runnables.history import RunnableWithMessageHistory"
      ]
    },
    {
      "cell_type": "markdown",
      "metadata": {
        "id": "9eEUkijlTsmM"
      },
      "source": [
        "```RunnableWithMessageHistory``` Wraps the RAG chain to maintain a history of the chat conversation.\n",
        "\n",
        "```get_session_history``` is a helper function to create a ```ChatMessageHistory``` object for a new ```session_id``` or to retrieve ```ChatMessageHistory``` for an existing ```session_id```"
      ]
    },
    {
      "cell_type": "code",
      "execution_count": 137,
      "metadata": {
        "id": "quNoZmkwHpxG"
      },
      "outputs": [],
      "source": [
        "store = {}\n",
        "\n",
        "\n",
        "def get_session_history(session_id: str) -> BaseChatMessageHistory:\n",
        "    if session_id not in store:\n",
        "        store[session_id] = ChatMessageHistory()\n",
        "    return store[session_id]\n",
        "\n",
        "\n",
        "conversational_rag_chain = RunnableWithMessageHistory(\n",
        "    rag_chain,\n",
        "    get_session_history,\n",
        "    input_messages_key=\"input\",\n",
        "    history_messages_key=\"chat_history\",\n",
        "    output_messages_key=\"answer\",\n",
        ")"
      ]
    },
    {
      "cell_type": "markdown",
      "metadata": {
        "id": "05e2ePYSYM88"
      },
      "source": [
        "### Invoking the conversational RAG chain\n",
        "Presenting answer, and cofiguring a ```session_id``` to store unique chat history"
      ]
    },
    {
      "cell_type": "code",
      "execution_count": 138,
      "metadata": {
        "colab": {
          "base_uri": "https://localhost:8080/"
        },
        "id": "Pt52GjsrHr0e",
        "outputId": "8b5cf477-972d-4102-d949-b2e7a4594753"
      },
      "outputs": [
        {
          "output_type": "execute_result",
          "data": {
            "text/plain": [
              "{'input': 'who is Charles Dicken?',\n",
              " 'chat_history': [],\n",
              " 'context': [Document(metadata={'page': 0, 'source': '/content/authors/Charles_Dickens.pdf'}, page_content=\"Charles Dickens\\nPortrait by Jeremiah Gurney, c. 1867–1868\\nBorn Charles John Huffam Dickens\\n7 February 1812\\nPortsmouth, Hampshire,\\nEngland\\nDied 9 June 1870 (aged 58)\\nHigham, Kent, England\\nResting\\nplace\\nPoets' Corner,\\nWestminster Abbey, England\\n51°29′57″N 0°7′39″W\\nOccupation Novelist\\nNotable\\nworks\\nThe Pickwick Papers,\\nOliver Twist,Nicholas Nickleby,\\nA Christmas Carol,\\nDavid Copperfield,\\nBleak House,Little Dorrit,\\nA Tale of Two Cities,\\nGreat Expectations\\nSpouse Catherine Thomson Hogarth  (m. 1836; sep. 1858) \\nPartner Ellen Ternan (1857–1870, his\\ndeath)\\nCharles Dickens\\nCharles John Huffam Dickens (/ˈdɪkɪnz/; 7 February\\n1812 – 9 June 1870) was an English novelist,\\njournalist, short story writer and social critic. He\\ncreated some of literature's best-known fictional\\ncharacters, and is regarded by many as the greatest\\nnovelist of the Victorian era.[1] His works enjoyed\\nunprecedented popularity during his lifetime and, by\\nthe 20th century, critics and scholars had recognised\"),\n",
              "  Document(metadata={'page': 0, 'source': '/content/authors/Charles_Dickens.pdf'}, page_content=\"Charles Dickens\\nPortrait by Jeremiah Gurney, c. 1867–1868\\nBorn Charles John Huffam Dickens\\n7 February 1812\\nPortsmouth, Hampshire,\\nEngland\\nDied 9 June 1870 (aged 58)\\nHigham, Kent, England\\nResting\\nplace\\nPoets' Corner,\\nWestminster Abbey, England\\n51°29′57″N 0°7′39″W\\nOccupation Novelist\\nNotable\\nworks\\nThe Pickwick Papers,\\nOliver Twist,Nicholas Nickleby,\\nA Christmas Carol,\\nDavid Copperfield,\\nBleak House,Little Dorrit,\\nA Tale of Two Cities,\\nGreat Expectations\\nSpouse Catherine Thomson Hogarth  (m. 1836; sep. 1858) \\nPartner Ellen Ternan (1857–1870, his\\ndeath)\\nCharles Dickens\\nCharles John Huffam Dickens (/ˈdɪkɪnz/; 7 February\\n1812 – 9 June 1870) was an English novelist,\\njournalist, short story writer and social critic. He\\ncreated some of literature's best-known fictional\\ncharacters, and is regarded by many as the greatest\\nnovelist of the Victorian era.[1] His works enjoyed\\nunprecedented popularity during his lifetime and, by\\nthe 20th century, critics and scholars had recognised\"),\n",
              "  Document(metadata={'page': 0, 'source': '/content/authors/Charles_Dickens.pdf'}, page_content=\"novelist of the Victorian era.[1] His works enjoyed\\nunprecedented popularity during his lifetime and, by\\nthe 20th century, critics and scholars had recognised\\nhim as a literary genius. His novels and short stories\\nare widely read today.[2][3]\\nBorn in Portsmouth, Dickens left school at age 12 to\\nwork in a boot-blacking factory when his father John\\nwas incarcerated in a debtors' prison. After three years,\\nhe returned to school before beginning his literary\\ncareer as a journalist. Dickens edited a weekly journal\\nfor 20 years; wrote 15 novels, five novellas, hundreds\\nof short stories and nonfiction articles; lectured and\\nperformed readings extensively; was an indefatigable\\nletter writer; and campaigned vigorously for children's\\nrights, education and other social reforms.\\nDickens's literary success began with the 1836 serial\\npublication of The Pickwick Papers, a publishing\\nphenomenon—thanks largely to the introduction of the\\ncharacter Sam Weller in the fourth episode—that\"),\n",
              "  Document(metadata={'page': 0, 'source': '/content/authors/Charles_Dickens.pdf'}, page_content=\"novelist of the Victorian era.[1] His works enjoyed\\nunprecedented popularity during his lifetime and, by\\nthe 20th century, critics and scholars had recognised\\nhim as a literary genius. His novels and short stories\\nare widely read today.[2][3]\\nBorn in Portsmouth, Dickens left school at age 12 to\\nwork in a boot-blacking factory when his father John\\nwas incarcerated in a debtors' prison. After three years,\\nhe returned to school before beginning his literary\\ncareer as a journalist. Dickens edited a weekly journal\\nfor 20 years; wrote 15 novels, five novellas, hundreds\\nof short stories and nonfiction articles; lectured and\\nperformed readings extensively; was an indefatigable\\nletter writer; and campaigned vigorously for children's\\nrights, education and other social reforms.\\nDickens's literary success began with the 1836 serial\\npublication of The Pickwick Papers, a publishing\\nphenomenon—thanks largely to the introduction of the\\ncharacter Sam Weller in the fourth episode—that\")],\n",
              " 'answer': 'Charles Dickens, born on February 7, 1812, was an English novelist, journalist, short story writer, and social critic. He is regarded as one of the greatest novelists of the Victorian era. Dickens created some of literature\\'s most well-known fictional characters and his works enjoyed immense popularity during his lifetime and continue to be widely read today. Some of his notable works include \"The Pickwick Papers,\" \"Oliver Twist,\" \"A Christmas Carol,\" \"David Copperfield,\" \"Great Expectations,\" and \"A Tale of Two Cities.\" Dickens was also known for his activism and campaigned for children\\'s rights, education, and other social reforms. He passed away on June 9, 1870.'}"
            ]
          },
          "metadata": {},
          "execution_count": 138
        }
      ],
      "source": [
        "conversational_rag_chain.invoke(\n",
        "    {\"input\": \"who is Charles Dicken?\"},\n",
        "    config={\n",
        "        \"configurable\": {\"session_id\": \"myuniqueid001\"}\n",
        "    },\n",
        ")"
      ]
    },
    {
      "cell_type": "code",
      "source": [
        "conversational_rag_chain.invoke(\n",
        "    {\"input\": \"Which rhythm would you give me to play Christmas Carol?\"},\n",
        "    config={\n",
        "        \"configurable\": {\"session_id\": \"myuniqueid001\"}\n",
        "    },\n",
        ")[\"answer\"]"
      ],
      "metadata": {
        "colab": {
          "base_uri": "https://localhost:8080/",
          "height": 35
        },
        "id": "4vTtKGdvQv1V",
        "outputId": "bcb6c2f9-908f-4966-f6cb-a644ab93b85d"
      },
      "execution_count": 139,
      "outputs": [
        {
          "output_type": "execute_result",
          "data": {
            "text/plain": [
              "\"I'm sorry, but I don't have any information about the rhythm to play a Christmas Carol in the context provided.\""
            ],
            "application/vnd.google.colaboratory.intrinsic+json": {
              "type": "string"
            }
          },
          "metadata": {},
          "execution_count": 139
        }
      ]
    },
    {
      "cell_type": "code",
      "source": [
        "conversational_rag_chain.invoke(\n",
        "    {\"input\": \"tell me who is william Shakespeare\"},\n",
        "    config={\n",
        "        \"configurable\": {\"session_id\": \"myuniqueid001\"}\n",
        "    },\n",
        ")[\"answer\"]"
      ],
      "metadata": {
        "colab": {
          "base_uri": "https://localhost:8080/",
          "height": 105
        },
        "id": "UW0H2RN9RAVS",
        "outputId": "ea7dde31-a4a3-41b2-9fa1-eba9f208a9d6"
      },
      "execution_count": 140,
      "outputs": [
        {
          "output_type": "execute_result",
          "data": {
            "text/plain": [
              "'William Shakespeare (c. 23 April 1564 – 23 April 1616) was an English playwright, poet, and actor. He is widely regarded as one of the greatest writers in the English language and the world\\'s pre-eminent dramatist. Shakespeare is often referred to as England\\'s national poet and the \"Bard of Avon.\" His works, including plays, sonnets, and poems, have had a profound influence on literature and continue to be studied, performed, and celebrated worldwide. Some of his most famous plays include \"Romeo and Juliet,\" \"Hamlet,\" \"Macbeth,\" \"Othello,\" and \"A Midsummer Night\\'s Dream.\" Shakespeare\\'s works explore various themes such as love, tragedy, comedy, and human nature. He was born and raised in Stratford-upon-Avon, England, and his legacy as a playwright and poet remains unparalleled.'"
            ],
            "application/vnd.google.colaboratory.intrinsic+json": {
              "type": "string"
            }
          },
          "metadata": {},
          "execution_count": 140
        }
      ]
    },
    {
      "cell_type": "code",
      "execution_count": 141,
      "metadata": {
        "colab": {
          "base_uri": "https://localhost:8080/",
          "height": 35
        },
        "id": "INlBLdJ_rje7",
        "outputId": "519ec7d7-4892-4566-b32c-d51486c6ed22"
      },
      "outputs": [
        {
          "output_type": "execute_result",
          "data": {
            "text/plain": [
              "\"I'm sorry, but I don't have any information about what happened to Ratan Tata in the given context.\""
            ],
            "application/vnd.google.colaboratory.intrinsic+json": {
              "type": "string"
            }
          },
          "metadata": {},
          "execution_count": 141
        }
      ],
      "source": [
        "conversational_rag_chain.invoke(\n",
        "    {\"input\": \"what happened to Ratan Tata?\"},\n",
        "    config={\n",
        "        \"configurable\": {\"session_id\": \"myuniqueid001\"}\n",
        "    },\n",
        ")[\"answer\"]"
      ]
    },
    {
      "cell_type": "code",
      "execution_count": 142,
      "metadata": {
        "colab": {
          "base_uri": "https://localhost:8080/",
          "height": 87
        },
        "id": "493JRVLnrwBA",
        "outputId": "d2d8c868-78f7-4de1-9830-54710fc55cfe"
      },
      "outputs": [
        {
          "output_type": "execute_result",
          "data": {
            "text/plain": [
              "'Harivansh Rai Bachchan, also known as Harivansh Rai Srivastava, was an Indian poet and writer. He was born on November 27, 1907, in Babupatti, United Provinces of Agra and Oudh, British India (present-day Uttar Pradesh, India). He passed away on January 18, 2003, in Mumbai, Maharashtra, India, at the age of 95. Harivansh Rai Bachchan was a renowned poet of the Nayi Kavita literary movement and a poet of the Hindi Kavi Sammelan. He is best known for his early work \"Madhushala.\" He was also the father of Amitabh Bachchan.'"
            ],
            "application/vnd.google.colaboratory.intrinsic+json": {
              "type": "string"
            }
          },
          "metadata": {},
          "execution_count": 142
        }
      ],
      "source": [
        "conversational_rag_chain.invoke(\n",
        "    {\"input\": \"Who is harivansh? is he died?\"},\n",
        "    config={\n",
        "        \"configurable\": {\"session_id\": \"myuniqueid002\"}\n",
        "    },\n",
        ")[\"answer\"]"
      ]
    },
    {
      "cell_type": "code",
      "execution_count": null,
      "metadata": {
        "colab": {
          "base_uri": "https://localhost:8080/"
        },
        "id": "D37UM-6Przqa",
        "outputId": "07d1f738-7141-4ce7-dd64-03b4afad2ad6"
      },
      "outputs": [
        {
          "output_type": "execute_result",
          "data": {
            "text/plain": [
              "{'myuniqueid001': InMemoryChatMessageHistory(messages=[HumanMessage(content='Which recipe would you give me if i only had carrots?', additional_kwargs={}, response_metadata={}), AIMessage(content=\"If you only have carrots, a simple and delicious recipe you can try is carrot soup. Here's a basic recipe:\\n\\nIngredients:\\n- 4-5 large carrots, peeled and chopped\\n- 1 onion, chopped\\n- 2 cloves of garlic, minced\\n- 4 cups vegetable or chicken broth\\n- 1 teaspoon cumin powder\\n- Salt and pepper to taste\\n- 2 tablespoons olive oil\\n- Optional toppings: fresh herbs, sour cream, croutons\\n\\nInstructions:\\n1. Heat olive oil in a large pot over medium heat. Add onions and garlic and cook until softened.\\n2. Add the chopped carrots to the pot and sauté for a few minutes.\\n3. Pour in the vegetable or chicken broth and bring to a boil. Reduce heat to low, cover the pot, and simmer for about 20-25 minutes or until the carrots are tender.\\n4. Using an immersion blender or regular blender, puree the soup until smooth and creamy.\\n5. Return the soup to the pot and season with cumin powder, salt, and pepper. Adjust the seasoning according to your taste.\\n6. Simmer the soup for an additional 5 minutes to let the flavors meld together.\\n7. Serve hot and garnish with your choice of fresh herbs, a dollop of sour cream, or croutons.\\n\\nEnjoy your homemade carrot soup!\", additional_kwargs={}, response_metadata={}), HumanMessage(content='Which recipe would you give me?', additional_kwargs={}, response_metadata={}), AIMessage(content='Certainly! Could you please specify what type of recipe you are looking for? For example, are you interested in a main course, a dessert, a snack, or something else? Additionally, do you have any specific dietary preferences or restrictions? Providing more information will help me give you a recipe that suits your needs.', additional_kwargs={}, response_metadata={}), HumanMessage(content='tell me about claws of mantis shrimp', additional_kwargs={}, response_metadata={}), AIMessage(content='The mantis shrimp is a fascinating marine crustacean known for its unique and powerful claws. These claws, also called \"raptorial appendages,\" are highly specialized and are considered one of the most powerful weapons in the animal kingdom.\\n\\nHere are some key features and facts about the claws of mantis shrimp:\\n\\n1. Structure: Mantis shrimp have two types of claws - smashing and piercing. Smashing claws are larger and thicker, while piercing claws are longer and thinner. The claws are located on the front limbs of the mantis shrimp.\\n\\n2. Incredible Strength: Mantis shrimp claws are incredibly strong, capable of delivering powerful strikes with incredible speed. They have been recorded striking with a force of up to 1,500 Newtons, which is comparable to the impact of a .22 caliber bullet. This strength allows them to break through shells and exoskeletons of prey.\\n\\n3. Hunting Technique: Mantis shrimp use their claws to hunt and capture prey. Depending on the species, they may either smash their prey with a quick and forceful strike from their smashing claw or use their piercing claw to impale and disable their prey.\\n\\n4. Versatility: Mantis shrimp claws are versatile tools. Smashing claws are designed to deliver powerful blows to crush hard-shelled prey like crabs, clams, and snails. Piercing claws are thinner and sharper, allowing the mantis shrimp to stab and spear soft-bodied prey like fish and worms.\\n\\n5. Color Vision: Mantis shrimp have remarkable eyesight and are known to have the most complex visual system among all known animals. Their eyes have up to 16 different types of photoreceptor cells, including specialized cells for detecting polarized light. This visual acuity helps them accurately assess distances and strike their prey with precision.\\n\\n6. Defense Mechanism: The claws of mantis shrimp are not just for hunting; they also serve as a defense mechanism. When threatened, mantis shrimp can rapidly strike with their claws, potentially inflicting severe damage on predators or competitors.\\n\\n7. Variations: There are over 500 known species of mantis shrimp, and they vary in size, color, and claw structure. Some species have brightly colored claws, while others have claws with camouflage patterns to blend into their surroundings.\\n\\nIn conclusion, the claws of mantis shrimp are remarkable adaptations that allow these creatures to hunt, defend themselves, and deliver incredibly powerful strikes. Their unique structure and strength make them a fascinating subject of study in the animal kingdom.', additional_kwargs={}, response_metadata={}), HumanMessage(content='tell me ukrain war', additional_kwargs={}, response_metadata={}), AIMessage(content=\"The Ukraine-Russia conflict has been an ongoing and complex situation that has garnered international attention. Here is an overview of the Ukraine war:\\n\\nBackground:\\n- Ukraine and Russia share a long history of cultural, linguistic, and familial ties due to their shared heritage as part of the Soviet Union.\\n- After Ukraine gained independence from the Soviet Union in 1991, both Russia and the West sought influence in the country to maintain a balance of power in the region.\\n- Ukraine faced a pro-Russian separatist movement in the Donbass region (Donetsk and Luhansk) starting in 2014. The Ukrainian government believes this movement has received support from the Russian government, with Russian paramilitaries fighting alongside separatists.\\n\\nInvasion of Crimea:\\n- In 2014, Russia seized Crimea from Ukraine, annexing it into the Russian Federation. This act was the first instance of a European country annexing territory from another since World War II.\\n- The annexation followed a Russian military intervention in Crimea, which occurred in the aftermath of the Ukrainian revolution and was part of wider unrest in southern and eastern Ukraine.\\n- The annexation of Crimea gave Russia increased control over the region and access to important naval bases in the Black Sea.\\n\\nConflict in Eastern Ukraine:\\n- The conflict in eastern Ukraine began in 2014 when pro-Russian separatists declared independence in Donetsk and Luhansk. The Ukrainian government responded with a military operation to regain control.\\n- The fighting between Ukrainian forces and separatist groups, supported by Russian forces, has resulted in thousands of deaths and displacement of civilians.\\n- Multiple ceasefires and peace agreements, such as the Minsk Protocol and Minsk II, have been attempted to de-escalate the conflict, but intermittent clashes and tensions persist.\\n\\nInternational Response:\\n- The international community has condemned Russia's actions in Crimea and its involvement in the conflict in eastern Ukraine.\\n- Sanctions have been imposed on Russia by the United States and the European Union, targeting key sectors of the Russian economy.\\n- Ukraine has sought support from the United States and other Western countries, including military aid and diplomatic assistance.\\n- Efforts by international organizations, such as the Organization for Security and Cooperation in Europe (OSCE), have been made to monitor the situation and facilitate negotiations for a peaceful resolution.\\n\\nOngoing Tensions:\\n- Tensions between Ukraine and Russia remain high, with periodic flare-ups of violence along the frontlines in eastern Ukraine.\\n- Russia has amassed troops near the Ukrainian border, raising concerns of a potential escalation of the conflict.\\n- Ukraine has expressed a desire to join NATO, which Russia opposes, further contributing to the strained relations between the two countries.\\n- The situation in Ukraine continues to be a major security concern for the region, with potential implications for broader international stability.\\n\\nPlease note that the situation is complex and evolving, and for the most up-to-date information, it is recommended to refer to reliable news sources.\", additional_kwargs={}, response_metadata={})]),\n",
              " 'myuniqueid002': InMemoryChatMessageHistory(messages=[HumanMessage(content='Can ukrain war can end?', additional_kwargs={}, response_metadata={}), AIMessage(content='The ongoing conflict in Ukraine can potentially end through diplomatic negotiations and a comprehensive peace agreement. Several attempts have been made to resolve the conflict, including the Minsk agreements in 2014 and 2015. However, these agreements have been violated by both sides, leading to continued tensions and fighting. To achieve a lasting resolution, all parties involved, including Ukraine, Russia, and the separatist groups, need to commit to a peaceful settlement, adhere to the terms of any agreement, and engage in sincere dialogue. International mediation and support can also play a crucial role in facilitating a peaceful resolution to the conflict.', additional_kwargs={}, response_metadata={})])}"
            ]
          },
          "metadata": {},
          "execution_count": 38
        }
      ],
      "source": [
        "store\n"
      ]
    },
    {
      "cell_type": "code",
      "execution_count": 143,
      "metadata": {
        "colab": {
          "base_uri": "https://localhost:8080/"
        },
        "id": "TT3VNeGjr2l9",
        "outputId": "21425ce7-3b29-406d-bfd5-e1f38e8b7177"
      },
      "outputs": [
        {
          "name": "stdout",
          "output_type": "stream",
          "text": [
            "Enter 'q' to quit or anything else to continue: who is chetan bhagat\n",
            "Chetan Bhagat is an Indian author, columnist, screenwriter, and YouTuber. He was born on April 22, 1974, in New Delhi, India. Bhagat is known for his works in both English and Hindi languages. He has written novels in various genres including romance, realistic fiction, non-fiction, suspense, and thriller. Some of his notable works include \"Five Point Someone,\" \"2 States: The Story of My Marriage,\" and \"The 3 Mistakes of My Life.\" Many of Bhagat's novels have been adapted into movies, such as \"One Night @ the Call Center\" and \"Half Girlfriend.\" He has gained popularity for his relatable storytelling and his books have become bestsellers in India. In addition to his writing career, Bhagat has also been active as a columnist, writing for major Indian newspapers.\n",
            "Enter 'q' to quit or anything else to continue: did he has any movie\n",
            "I'm sorry, but I don't have information about Chetan Bhagat's involvement in sci-fi movies in the given context.\n",
            "Enter 'q' to quit or anything else to continue: q\n"
          ]
        }
      ],
      "source": [
        "while True:\n",
        "  user_input = input(\"Enter 'q' to quit or anything else to continue: \")\n",
        "  if user_input == 'q':\n",
        "    break\n",
        "  else:\n",
        "    res = conversational_rag_chain.invoke(\n",
        "    {\"input\": user_input},\n",
        "    config={\n",
        "        \"configurable\": {\"session_id\": \"myuniqueid001\"}\n",
        "    },\n",
        "    )[\"answer\"]\n",
        "    print(res)\n"
      ]
    },
    {
      "cell_type": "code",
      "execution_count": null,
      "metadata": {
        "id": "_VmnjMR8HEk7"
      },
      "outputs": [],
      "source": []
    }
  ],
  "metadata": {
    "colab": {
      "provenance": []
    },
    "kernelspec": {
      "display_name": "Python 3",
      "name": "python3"
    },
    "language_info": {
      "name": "python"
    }
  },
  "nbformat": 4,
  "nbformat_minor": 0
}
